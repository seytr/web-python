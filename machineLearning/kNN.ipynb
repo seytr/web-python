{
 "cells": [
  {
   "cell_type": "code",
   "execution_count": 1,
   "metadata": {},
   "outputs": [],
   "source": [
    "import numpy as np\n",
    "\n",
    "def generate_dataset():\n",
    "    cov = np.array([[1, 0], [0, 1]])\n",
    "    data1 = np.random.multivariate_normal(np.array([0, 0]), cov, 10)\n",
    "    data2 = np.random.multivariate_normal(np.array([-10, 4]), cov, 6)\n",
    "    data3 = np.random.multivariate_normal(np.array([10, 10]), cov, 13)\n",
    "    data = np.concatenate((data1, data2, data3), axis=0)\n",
    "    classes = np.array([0 for i in range(10)] + [1 for i in range(6)] + [2 for i in range(13)])\n",
    "    return data, classes"
   ]
  },
  {
   "cell_type": "code",
   "execution_count": 2,
   "metadata": {},
   "outputs": [],
   "source": [
    "dataset, classes = generate_dataset()"
   ]
  },
  {
   "cell_type": "code",
   "execution_count": 19,
   "metadata": {},
   "outputs": [
    {
     "data": {
      "image/png": "[encoded data removed]",
      "text/plain": [
       "<matplotlib.figure.Figure at 0x7f11b82f47b8>"
      ]
     },
     "metadata": {},
     "output_type": "display_data"
    }
   ],
   "source": [
    "import matplotlib.pyplot as plt\n",
    "count = 0\n",
    "for data in dataset:\n",
    "    if classes[count] == 0:\n",
    "        color = \"red\"\n",
    "    elif classes[count] == 1:\n",
    "        color = \"green\"\n",
    "    else:\n",
    "        color = \"blue\"\n",
    "#    print(data[0], data[1], color)\n",
    "    count += 1\n",
    "    plt.scatter(data[0], data[1], c=color)\n",
    "plt.show()"
   ]
  },
  {
   "cell_type": "code",
   "execution_count": 7,
   "metadata": {},
   "outputs": [],
   "source": [
    "import numpy as np\n",
    "\n",
    "def generate_dataset():\n",
    "    cov = np.array([[1, 0], [0, 1]])\n",
    "    data1 = np.random.multivariate_normal(np.array([0, 0]), cov, 10)\n",
    "    data2 = np.random.multivariate_normal(np.array([-10, 4]), cov, 6)\n",
    "    data3 = np.random.multivariate_normal(np.array([10, 10]), cov, 13)\n",
    "    data = np.concatenate((data1, data2, data3), axis=0)\n",
    "    classes = np.array([0 for i in range(10)] + [1 for i in range(6)] + [2 for i in range(13)])\n",
    "    return data, classes\n",
    "\n",
    "dataset, classes = generate_dataset()"
   ]
  },
  {
   "cell_type": "code",
   "execution_count": 8,
   "metadata": {},
   "outputs": [],
   "source": [
    "import matplotlib.pyplot as plt\n",
    "\n",
    "def plot_dataset(dataset, classes):\n",
    "    colors = [\"red\", \"blue\", \"green\"]\n",
    "    for index, point in enumerate(dataset):\n",
    "        plt.scatter(point[0], point[1], color=colors[classes[index]])\n",
    "    plt.show()"
   ]
  },
  {
   "cell_type": "code",
   "execution_count": 9,
   "metadata": {},
   "outputs": [
    {
     "data": {
      "image/png": "[encoded data removed]",
      "text/plain": [
       "<matplotlib.figure.Figure at 0x7fd1b95a7470>"
      ]
     },
     "metadata": {},
     "output_type": "display_data"
    }
   ],
   "source": [
    "plot_dataset(dataset, classes)"
   ]
  },
  {
   "cell_type": "code",
   "execution_count": 10,
   "metadata": {},
   "outputs": [],
   "source": [
    "def distance(p1, p2):\n",
    "    distance = np.linalg.norm(p1 - p2)\n",
    "    return distance"
   ]
  },
  {
   "cell_type": "code",
   "execution_count": 11,
   "metadata": {},
   "outputs": [],
   "source": [
    "def vote(neighbours, num_classes):\n",
    "    votes = [0 for i in range(num_classes)]\n",
    "    for neigh in neighbours:\n",
    "        cl = neigh[1]\n",
    "        votes[cl] += 1\n",
    "    voted_class = np.argmax(votes)\n",
    "    return voted_class"
   ]
  },
  {
   "cell_type": "code",
   "execution_count": 12,
   "metadata": {},
   "outputs": [],
   "source": [
    "def KNN(dataset, classes, num_classes, K, sample):\n",
    "    num_samples = dataset.shape[0]\n",
    "    num_features = dataset.shape[1]\n",
    "    # List with distances from sample to dataset\n",
    "    neighbours = sorted([(distance(sample, dataset[i]), classes[i], dataset[i]) for i in range(num_samples)])\n",
    "    neighbours = neighbours[:K]\n",
    "    voted_class = vote(neighbours, num_classes)\n",
    "    return voted_class"
   ]
  },
  {
   "cell_type": "code",
   "execution_count": 20,
   "metadata": {},
   "outputs": [
    {
     "data": {
      "text/plain": [
       "1"
      ]
     },
     "execution_count": 20,
     "metadata": {},
     "output_type": "execute_result"
    }
   ],
   "source": [
    "K = 3\n",
    "num_classes = 3\n",
    "sample = np.array([-10, 10])\n",
    "\n",
    "KNN(dataset, classes, num_classes, K, sample)"
   ]
  },
  {
   "cell_type": "code",
   "execution_count": 37,
   "metadata": {},
   "outputs": [
    {
     "ename": "TypeError",
     "evalue": "unsupported operand type(s) for -: 'list' and 'list'",
     "output_type": "error",
     "traceback": [
      "\u001b[0;31m---------------------------------------------------------------------------\u001b[0m",
      "\u001b[0;31mTypeError\u001b[0m                                 Traceback (most recent call last)",
      "\u001b[0;32m<ipython-input-37-88349355cb8f>\u001b[0m in \u001b[0;36m<module>\u001b[0;34m\u001b[0m\n\u001b[0;32m----> 1\u001b[0;31m \u001b[0mdist\u001b[0m \u001b[0;34m=\u001b[0m \u001b[0mnp\u001b[0m\u001b[0;34m.\u001b[0m\u001b[0mlinalg\u001b[0m\u001b[0;34m.\u001b[0m\u001b[0mnorm\u001b[0m\u001b[0;34m(\u001b[0m\u001b[0;34m[\u001b[0m\u001b[0;36m0\u001b[0m\u001b[0;34m,\u001b[0m\u001b[0;36m0\u001b[0m\u001b[0;34m]\u001b[0m\u001b[0;34m-\u001b[0m\u001b[0;34m[\u001b[0m\u001b[0;36m0\u001b[0m\u001b[0;34m,\u001b[0m\u001b[0;36m1\u001b[0m\u001b[0;34m]\u001b[0m\u001b[0;34m)\u001b[0m\u001b[0;34m\u001b[0m\u001b[0;34m\u001b[0m\u001b[0m\n\u001b[0m",
      "\u001b[0;31mTypeError\u001b[0m: unsupported operand type(s) for -: 'list' and 'list'"
     ]
    }
   ],
   "source": [
    "dist = np.linalg.norm([0,0]-[0,1])"
   ]
  },
  {
   "cell_type": "code",
   "execution_count": 36,
   "metadata": {},
   "outputs": [
    {
     "name": "stdout",
     "output_type": "stream",
     "text": [
      "1.0\n"
     ]
    }
   ],
   "source": [
    "print(dist)"
   ]
  },
  {
   "cell_type": "code",
   "execution_count": 38,
   "metadata": {},
   "outputs": [
    {
     "data": {
      "text/plain": [
       "numpy.ndarray"
      ]
     },
     "execution_count": 38,
     "metadata": {},
     "output_type": "execute_result"
    }
   ],
   "source": [
    "type(dataset[3])"
   ]
  },
  {
   "cell_type": "code",
   "execution_count": null,
   "metadata": {},
   "outputs": [],
   "source": []
  }
 ],
 "metadata": {
  "kernelspec": {
   "display_name": "Python 3",
   "language": "python",
   "name": "python3"
  },
  "language_info": {
   "codemirror_mode": {
    "name": "ipython",
    "version": 3
   },
   "file_extension": ".py",
   "mimetype": "text/x-python",
   "name": "python",
   "nbconvert_exporter": "python",
   "pygments_lexer": "ipython3",
   "version": "3.6.7"
  }
 },
 "nbformat": 4,
 "nbformat_minor": 2
}
